{
 "cells": [
  {
   "cell_type": "code",
   "execution_count": 1,
   "metadata": {},
   "outputs": [
    {
     "name": "stderr",
     "output_type": "stream",
     "text": [
      "c:\\Users\\Miguel\\AppData\\Local\\Programs\\Python\\Python311\\Lib\\site-packages\\tqdm\\auto.py:21: TqdmWarning: IProgress not found. Please update jupyter and ipywidgets. See https://ipywidgets.readthedocs.io/en/stable/user_install.html\n",
      "  from .autonotebook import tqdm as notebook_tqdm\n"
     ]
    }
   ],
   "source": [
    "from transformers import get_linear_schedule_with_warmup,AutoTokenizer,AutoModelForSequenceClassification, AutoModel, AlbertForSequenceClassification\n",
    "from textwrap import wrap\n",
    "import pandas as pd\n",
    "from sklearn.model_selection import train_test_split\n",
    "from torch.utils.data import Dataset, DataLoader\n",
    "from torch import nn\n",
    "import numpy as np\n",
    "import torch\n",
    "import pickle\n",
    "from tqdm import tqdm"
   ]
  },
  {
   "cell_type": "markdown",
   "metadata": {},
   "source": [
    "### Inicializacion\n"
   ]
  },
  {
   "cell_type": "code",
   "execution_count": 2,
   "metadata": {},
   "outputs": [
    {
     "data": {
      "text/plain": [
       "<torch._C.Generator at 0x1aeed346d30>"
      ]
     },
     "execution_count": 2,
     "metadata": {},
     "output_type": "execute_result"
    }
   ],
   "source": [
    "RANDOM_SEED = 42\n",
    "MAX_LEN = 250\n",
    "BATCH_SIZE = 8\n",
    "DATASET_PATH = '../Data/SemEval_Train_Polarity.csv'\n",
    "NCLASES = 2\n",
    "\n",
    "np.random.seed(RANDOM_SEED)\n",
    "torch.manual_seed(RANDOM_SEED)"
   ]
  },
  {
   "cell_type": "markdown",
   "metadata": {},
   "source": [
    "### Cargar DataSet"
   ]
  },
  {
   "cell_type": "code",
   "execution_count": 3,
   "metadata": {},
   "outputs": [
    {
     "data": {
      "text/html": [
       "<div>\n",
       "<style scoped>\n",
       "    .dataframe tbody tr th:only-of-type {\n",
       "        vertical-align: middle;\n",
       "    }\n",
       "\n",
       "    .dataframe tbody tr th {\n",
       "        vertical-align: top;\n",
       "    }\n",
       "\n",
       "    .dataframe thead th {\n",
       "        text-align: right;\n",
       "    }\n",
       "</style>\n",
       "<table border=\"1\" class=\"dataframe\">\n",
       "  <thead>\n",
       "    <tr style=\"text-align: right;\">\n",
       "      <th></th>\n",
       "      <th>texto</th>\n",
       "      <th>aspecto</th>\n",
       "      <th>review</th>\n",
       "    </tr>\n",
       "    <tr>\n",
       "      <th>sentiment</th>\n",
       "      <th></th>\n",
       "      <th></th>\n",
       "      <th></th>\n",
       "    </tr>\n",
       "  </thead>\n",
       "  <tbody>\n",
       "    <tr>\n",
       "      <th>0</th>\n",
       "      <td>494</td>\n",
       "      <td>231</td>\n",
       "      <td>637</td>\n",
       "    </tr>\n",
       "    <tr>\n",
       "      <th>1</th>\n",
       "      <td>1147</td>\n",
       "      <td>322</td>\n",
       "      <td>1727</td>\n",
       "    </tr>\n",
       "  </tbody>\n",
       "</table>\n",
       "</div>"
      ],
      "text/plain": [
       "           texto  aspecto  review\n",
       "sentiment                        \n",
       "0            494      231     637\n",
       "1           1147      322    1727"
      ]
     },
     "execution_count": 3,
     "metadata": {},
     "output_type": "execute_result"
    }
   ],
   "source": [
    "df = pd.read_csv(DATASET_PATH, sep=';')\n",
    "df.groupby('sentiment').nunique()"
   ]
  },
  {
   "cell_type": "markdown",
   "metadata": {},
   "source": [
    "### Tokenizacion"
   ]
  },
  {
   "cell_type": "code",
   "execution_count": 4,
   "metadata": {},
   "outputs": [
    {
     "name": "stdout",
     "output_type": "stream",
     "text": [
      "PAD\n"
     ]
    }
   ],
   "source": [
    "MODEL_TRAIN = '../Model/GPT-2/'\n",
    "tokenizer = AutoTokenizer.from_pretrained(MODEL_TRAIN)\n",
    "\n",
    "# Agrega el token de padding (si no existe)\n",
    "if tokenizer.pad_token is None:\n",
    "    tokenizer.add_special_tokens({'pad_token': '[PAD]'})\n",
    "    print(\"PAD\")"
   ]
  },
  {
   "cell_type": "markdown",
   "metadata": {},
   "source": [
    "### Crear DataSet"
   ]
  },
  {
   "cell_type": "code",
   "execution_count": 5,
   "metadata": {},
   "outputs": [],
   "source": [
    "class CoahDataset(Dataset):\n",
    "\n",
    "    def __init__(self, reviews, labels, tokenizer, max_len):\n",
    "        self.tokenizer = tokenizer\n",
    "        self.max_len = max_len\n",
    "        self.reviews = reviews\n",
    "        self.labels = labels\n",
    "\n",
    "    def __len__(self):\n",
    "        return len(self.reviews)\n",
    "    \n",
    "    def __getitem__(self,index):\n",
    "        review = str(self.reviews[index])\n",
    "        label = self.labels[index]\n",
    "\n",
    "        encoding = self.tokenizer.encode_plus(\n",
    "            review,\n",
    "            add_special_tokens = True,\n",
    "            max_length = self.max_len,\n",
    "            padding = \"max_length\",\n",
    "            return_token_type_ids = False,\n",
    "            truncation = True,\n",
    "            return_attention_mask = True,\n",
    "            return_tensors = 'pt',\n",
    "        )\n",
    "        \n",
    "        return{\n",
    "            'review': review,\n",
    "            'input_ids': encoding['input_ids'].flatten(),\n",
    "            'attention_mask': encoding['attention_mask'].flatten(),\n",
    "            'labels': torch.tensor(label, dtype= torch.long)\n",
    "        }\n",
    "        "
   ]
  },
  {
   "cell_type": "code",
   "execution_count": 6,
   "metadata": {},
   "outputs": [],
   "source": [
    "def data_loader(df,tokenizer, max_len , batch_size):\n",
    "    dataset = CoahDataset(\n",
    "        reviews = df['review'].to_numpy(),\n",
    "        labels = df['sentiment'].to_numpy(),\n",
    "        tokenizer = tokenizer,\n",
    "        max_len = max_len\n",
    "    )\n",
    "\n",
    "    return DataLoader(dataset, batch_size = batch_size, num_workers= 0)  #num_workers = 0. Probar con 1 y 2"
   ]
  },
  {
   "cell_type": "markdown",
   "metadata": {},
   "source": [
    "### Entrenamiento"
   ]
  },
  {
   "cell_type": "code",
   "execution_count": 7,
   "metadata": {},
   "outputs": [],
   "source": [
    "df_train, df_test = train_test_split(df, test_size=0.1, random_state=RANDOM_SEED)\n",
    "\n",
    "train_data_loader = data_loader(df_train, tokenizer, MAX_LEN, BATCH_SIZE)\n",
    "test_data_loader = data_loader(df_test, tokenizer, MAX_LEN, BATCH_SIZE)"
   ]
  },
  {
   "cell_type": "markdown",
   "metadata": {},
   "source": [
    "### Modelo"
   ]
  },
  {
   "cell_type": "code",
   "execution_count": null,
   "metadata": {},
   "outputs": [],
   "source": [
    "#NO\n",
    "class ModelSentiment(nn.Module):\n",
    "\n",
    "    def __init__(self, n_classes):\n",
    "        super(ModelSentiment, self).__init__()\n",
    "        self.model = BertModel.from_pretrained('../Model/beto/')\n",
    "        self.drop = nn.Dropout(0.3)\n",
    "        self.linear = nn.Linear(768, n_classes)   #hidden.size=768\n",
    "        print(self.model.config.cross_attention_hidden_size)\n",
    "\n",
    "    def forward(self, input_ids, attention_mask):\n",
    "        cls_output = self.model(input_ids, attention_mask)\n",
    "        drop_output = self.drop(cls_output.pooler_output)\n",
    "        output = self.linear(drop_output)\n",
    "        return output\n",
    "\n",
    "model = ModelSentiment(NCLASES)"
   ]
  },
  {
   "cell_type": "code",
   "execution_count": 8,
   "metadata": {},
   "outputs": [
    {
     "name": "stderr",
     "output_type": "stream",
     "text": [
      "Some weights of GPT2ForSequenceClassification were not initialized from the model checkpoint at ../Model/GPT-2/ and are newly initialized: ['score.weight']\n",
      "You should probably TRAIN this model on a down-stream task to be able to use it for predictions and inference.\n"
     ]
    }
   ],
   "source": [
    "model = AutoModelForSequenceClassification.from_pretrained(MODEL_TRAIN)\n",
    "model.dropout = nn.Dropout(0.3)\n",
    "model.classifier = nn.Linear(model.config.hidden_size, 2) \n",
    "model.resize_token_embeddings(len(tokenizer)) # Esencial para actualizar el modelo con el nuevo token\n",
    "model.config.pad_token_id = tokenizer.pad_token_id\n"
   ]
  },
  {
   "cell_type": "code",
   "execution_count": 10,
   "metadata": {},
   "outputs": [
    {
     "data": {
      "text/plain": [
       "GPT2ForSequenceClassification(\n",
       "  (transformer): GPT2Model(\n",
       "    (wte): Embedding(50258, 768)\n",
       "    (wpe): Embedding(1024, 768)\n",
       "    (drop): Dropout(p=0.1, inplace=False)\n",
       "    (h): ModuleList(\n",
       "      (0-11): 12 x GPT2Block(\n",
       "        (ln_1): LayerNorm((768,), eps=1e-05, elementwise_affine=True)\n",
       "        (attn): GPT2Attention(\n",
       "          (c_attn): Conv1D()\n",
       "          (c_proj): Conv1D()\n",
       "          (attn_dropout): Dropout(p=0.1, inplace=False)\n",
       "          (resid_dropout): Dropout(p=0.1, inplace=False)\n",
       "        )\n",
       "        (ln_2): LayerNorm((768,), eps=1e-05, elementwise_affine=True)\n",
       "        (mlp): GPT2MLP(\n",
       "          (c_fc): Conv1D()\n",
       "          (c_proj): Conv1D()\n",
       "          (act): NewGELUActivation()\n",
       "          (dropout): Dropout(p=0.1, inplace=False)\n",
       "        )\n",
       "      )\n",
       "    )\n",
       "    (ln_f): LayerNorm((768,), eps=1e-05, elementwise_affine=True)\n",
       "  )\n",
       "  (score): Linear(in_features=768, out_features=2, bias=False)\n",
       "  (dropout): Dropout(p=0.3, inplace=False)\n",
       "  (classifier): Linear(in_features=768, out_features=2, bias=True)\n",
       ")"
      ]
     },
     "execution_count": 10,
     "metadata": {},
     "output_type": "execute_result"
    }
   ],
   "source": [
    "model"
   ]
  },
  {
   "cell_type": "markdown",
   "metadata": {},
   "source": [
    "### Entrenamiento"
   ]
  },
  {
   "cell_type": "code",
   "execution_count": null,
   "metadata": {},
   "outputs": [],
   "source": [
    "from transformers import RobertaModel, RobertaTokenizer\n",
    "import torch\n",
    "\n",
    "# Nombres de los modelos Bertin Base y Bertin Large\n",
    "MODEL_NAMES = {\n",
    "    \"base\": \"../Model/GPT-2/\",\n",
    "}\n",
    "\n",
    "def load_model_and_get_stats(model_name):\n",
    "    # Cargar el tokenizador y el modelo\n",
    "    model = RobertaModel.from_pretrained(model_name)\n",
    "\n",
    "    # Obtener la cantidad de parámetros\n",
    "    num_params = sum(p.numel() for p in model.parameters())\n",
    "\n",
    "    # Imprimir estadísticas\n",
    "    print(f\"Modelo: {model_name}\")\n",
    "    print(f\"Número de parámetros: {num_params:,}\")\n",
    "    print(f\"Número de capas: {len(model.encoder.layer)}\")\n",
    "    print(f\"Tamaño de las embeddings: {model.config.hidden_size}\")\n",
    "    print(f\"Número de cabezas de atención: {model.config.num_attention_heads}\")\n",
    "    print(\"-\" * 50)\n",
    "\n",
    "# Cargar y mostrar estadísticas para Bertin Base y Bertin Large\n",
    "for model_type, model_name in MODEL_NAMES.items():\n",
    "    load_model_and_get_stats(model_name)"
   ]
  },
  {
   "cell_type": "code",
   "execution_count": 11,
   "metadata": {},
   "outputs": [],
   "source": [
    "#Entrenamiento\n",
    "EPOCHES = 3\n",
    "optimizer = torch.optim.Adam(model.parameters(), lr=2e-5)\n",
    "total_steps = len(train_data_loader)  *  EPOCHES\n",
    "scheduler = get_linear_schedule_with_warmup(\n",
    "    optimizer,\n",
    "    num_warmup_steps= 0,\n",
    "    num_training_steps= total_steps\n",
    ")\n",
    "loss_fn = nn.CrossEntropyLoss()\n"
   ]
  },
  {
   "cell_type": "code",
   "execution_count": 12,
   "metadata": {},
   "outputs": [],
   "source": [
    "def train_model(model, data_loader,loss_fn,optimizer,scheduler,n_examples):\n",
    "    model = model.train()\n",
    "    losses = []\n",
    "    correct_predictions = 0\n",
    "    for batch in tqdm(data_loader):\n",
    "        input_ids = batch['input_ids']\n",
    "        attention_mask = batch['attention_mask']\n",
    "        labels = batch['labels']\n",
    "        outputs = model(input_ids = input_ids, attention_mask = attention_mask)\n",
    "        logits = outputs.logits\n",
    "        _, preds = torch.max(logits, dim=1)\n",
    "        loss = loss_fn(logits, labels)\n",
    "        correct_predictions += torch.sum(preds == labels)\n",
    "        losses.append(loss.item())\n",
    "        loss.backward()\n",
    "        nn.utils.clip_grad_norm_(model.parameters(), max_norm = 1.0)\n",
    "        optimizer.step()\n",
    "        scheduler.step()\n",
    "        optimizer.zero_grad()\n",
    "    return correct_predictions.double()/n_examples, np.mean(losses)\n",
    "\n",
    "def eval_model(model, data_loader, loss_fn,n_examples):\n",
    "    model = model.eval()\n",
    "    losses = []\n",
    "    correct_predictions = 0\n",
    "    with torch.no_grad():\n",
    "        for batch in tqdm(data_loader):\n",
    "            input_ids = batch['input_ids']\n",
    "            attention_mask = batch['attention_mask']\n",
    "            labels = batch['labels']\n",
    "            outputs = model(input_ids = input_ids, attention_mask = attention_mask)\n",
    "            logits = outputs.logits\n",
    "            _, preds = torch.max(logits, dim=1)\n",
    "            loss = loss_fn(logits, labels)\n",
    "            correct_predictions += torch.sum(preds == labels)\n",
    "            losses.append(loss.item())\n",
    "    return correct_predictions.double()/n_examples, np.mean(losses)"
   ]
  },
  {
   "cell_type": "code",
   "execution_count": 25,
   "metadata": {},
   "outputs": [],
   "source": [
    "def train_model(model, data_loader,loss_fn,optimizer,scheduler,n_examples):\n",
    "    model = model.train()\n",
    "    losses = []\n",
    "    correct_predictions = 0\n",
    "    for batch in tqdm(data_loader):\n",
    "        input_ids = batch['input_ids']\n",
    "        attention_mask = batch['attention_mask']\n",
    "        labels = batch['labels']\n",
    "        outputs = model(input_ids = input_ids, attention_mask = attention_mask)\n",
    "        logits = outputs.logits\n",
    "\n",
    "        cls_logits = logits[:, 0, :] \n",
    "        _, preds = torch.max(cls_logits, dim=1)  \n",
    "        loss = loss_fn(cls_logits, labels)  \n",
    "        correct_predictions += torch.sum(preds == labels)\n",
    "        losses.append(loss.item())\n",
    "        loss.backward()\n",
    "        nn.utils.clip_grad_norm_(model.parameters(), max_norm = 1.0)\n",
    "        optimizer.step()\n",
    "        scheduler.step()\n",
    "        optimizer.zero_grad()\n",
    "    return correct_predictions.double()/n_examples, np.mean(losses)\n",
    "\n",
    "def eval_model(model, data_loader, loss_fn,n_examples):\n",
    "    model = model.eval()\n",
    "    losses = []\n",
    "    correct_predictions = 0\n",
    "    with torch.no_grad():\n",
    "        for batch in tqdm(data_loader):\n",
    "            input_ids = batch['input_ids']\n",
    "            attention_mask = batch['attention_mask']\n",
    "            labels = batch['labels']\n",
    "            outputs = model(input_ids = input_ids, attention_mask = attention_mask)\n",
    "            logits = outputs.logits\n",
    "            cls_logits = logits[:, 0, :] \n",
    "            _, preds = torch.max(cls_logits, dim=1)\n",
    "            loss = loss_fn(cls_logits, labels)\n",
    "            correct_predictions += torch.sum(preds == labels)\n",
    "            losses.append(loss.item())\n",
    "    return correct_predictions.double()/n_examples, np.mean(losses)"
   ]
  },
  {
   "cell_type": "code",
   "execution_count": 20,
   "metadata": {},
   "outputs": [],
   "source": [
    "#NO\n",
    "\n",
    "def train_model(model, data_loader,loss_fn,optimizer,scheduler,n_examples):\n",
    "    model = model.train()\n",
    "    losses = []\n",
    "    correct_predictions = 0\n",
    "    for batch in tqdm(data_loader):\n",
    "        input_ids = batch['input_ids']\n",
    "        attention_mask = batch['attention_mask']\n",
    "        labels = batch['labels']\n",
    "        outputs = model(input_ids = input_ids, attention_mask = attention_mask)\n",
    "        _, preds = torch.max(outputs, dim=1)\n",
    "        loss = loss_fn(outputs, labels)\n",
    "        correct_predictions += torch.sum(preds == labels)\n",
    "        losses.append(loss.item())\n",
    "        loss.backward()\n",
    "        nn.utils.clip_grad_norm_(model.parameters(), max_norm = 1.0)\n",
    "        optimizer.step()\n",
    "        scheduler.step()\n",
    "        optimizer.zero_grad()\n",
    "    return correct_predictions.double()/n_examples, np.mean(losses)\n",
    "\n",
    "def eval_model(model, data_loader, loss_fn,n_examples):\n",
    "    model = model.eval()\n",
    "    losses = []\n",
    "    correct_predictions = 0\n",
    "    with torch.no_grad():\n",
    "        for batch in tqdm(data_loader):\n",
    "            input_ids = batch['input_ids']\n",
    "            attention_mask = batch['attention_mask']\n",
    "            labels = batch['labels']\n",
    "            outputs = model(input_ids = input_ids, attention_mask = attention_mask)\n",
    "            _, preds = torch.max(outputs, dim=1)\n",
    "            loss = loss_fn(outputs, labels)\n",
    "            correct_predictions += torch.sum(preds == labels)\n",
    "            losses.append(loss.item())\n",
    "    return correct_predictions.double()/n_examples, np.mean(losses)\n"
   ]
  },
  {
   "cell_type": "code",
   "execution_count": 13,
   "metadata": {},
   "outputs": [
    {
     "name": "stdout",
     "output_type": "stream",
     "text": [
      "Epoch 1 de 3\n",
      "---------------------------\n"
     ]
    },
    {
     "name": "stderr",
     "output_type": "stream",
     "text": [
      "100%|██████████| 293/293 [38:56<00:00,  7.97s/it]\n"
     ]
    },
    {
     "name": "stdout",
     "output_type": "stream",
     "text": [
      "Entrenamiento: Loss: 0.9820798484691174, accuracy: 0.6673792218896965\n"
     ]
    },
    {
     "name": "stderr",
     "output_type": "stream",
     "text": [
      "100%|██████████| 33/33 [01:30<00:00,  2.74s/it]\n"
     ]
    },
    {
     "name": "stdout",
     "output_type": "stream",
     "text": [
      "Validacion: Loss: 0.4454198023586562, accuracy: 0.7923076923076923\n",
      "Epoch 2 de 3\n",
      "---------------------------\n"
     ]
    },
    {
     "name": "stderr",
     "output_type": "stream",
     "text": [
      "100%|██████████| 293/293 [38:27<00:00,  7.88s/it]\n"
     ]
    },
    {
     "name": "stdout",
     "output_type": "stream",
     "text": [
      "Entrenamiento: Loss: 0.4796180200759868, accuracy: 0.7776827704147071\n"
     ]
    },
    {
     "name": "stderr",
     "output_type": "stream",
     "text": [
      "100%|██████████| 33/33 [01:44<00:00,  3.16s/it]\n"
     ]
    },
    {
     "name": "stdout",
     "output_type": "stream",
     "text": [
      "Validacion: Loss: 0.4529114487496289, accuracy: 0.8307692307692308\n",
      "Epoch 3 de 3\n",
      "---------------------------\n"
     ]
    },
    {
     "name": "stderr",
     "output_type": "stream",
     "text": [
      "100%|██████████| 293/293 [42:12<00:00,  8.64s/it]\n"
     ]
    },
    {
     "name": "stdout",
     "output_type": "stream",
     "text": [
      "Entrenamiento: Loss: 0.382201064985131, accuracy: 0.8268490808037623\n"
     ]
    },
    {
     "name": "stderr",
     "output_type": "stream",
     "text": [
      "100%|██████████| 33/33 [01:27<00:00,  2.66s/it]\n"
     ]
    },
    {
     "name": "stdout",
     "output_type": "stream",
     "text": [
      "Validacion: Loss: 0.42762477842695784, accuracy: 0.8346153846153846\n"
     ]
    }
   ],
   "source": [
    "for epoch in range(EPOCHES):\n",
    "    print('Epoch {} de {}'.format(epoch+1, EPOCHES))\n",
    "    print('---------------------------')\n",
    "    train_acc, train_loss = train_model(\n",
    "        model, train_data_loader, loss_fn, optimizer, scheduler, len(df_train)\n",
    "    )\n",
    "    print('Entrenamiento: Loss: {}, accuracy: {}'.format(train_loss,train_acc) )\n",
    "    test_acc, test_loss = eval_model(\n",
    "        model, test_data_loader, loss_fn, len(df_test)\n",
    "    )\n",
    "    print('Validacion: Loss: {}, accuracy: {}'.format(test_loss,test_acc) )\n",
    "    # with open(\"../Model_Train/Albert_\"+str(epoch)+\".pkl\", \"wb\") as file:\n",
    "    #     pickle.dump(model, file) \n",
    "    # model.save_pretrained(\"Albert_Large_Fine_turned\")\n",
    "    # tokenizer.save_pretrained(\"Albert_Large_Fine_turned\") \n",
    "    torch.save(model, 'Albert_Large.pth')\n",
    "    # torch.save(model.state_dict(), \"Electra\" + str(epoch+1) + '.pkl')\n",
    "    # torch.save(model.config, \"Electra\" + str(epoch+1) + '.pkl')\n"
   ]
  },
  {
   "cell_type": "code",
   "execution_count": null,
   "metadata": {},
   "outputs": [],
   "source": [
    "model = AutoModelForSequenceClassification.from_pretrained(\"../Logic/Bert_Fine_turned/\")\n",
    "tokenizer = AutoTokenizer.from_pretrained('../Model/bert-base-multilingual-uncased/')"
   ]
  },
  {
   "cell_type": "markdown",
   "metadata": {},
   "source": [
    "### Prediccion"
   ]
  },
  {
   "cell_type": "code",
   "execution_count": 40,
   "metadata": {},
   "outputs": [],
   "source": [
    "def classifySentiment(review_text):\n",
    "    encoding_review = tokenizer.encode_plus(\n",
    "        review_text,\n",
    "        add_special_tokens = True,\n",
    "        max_length = 250,\n",
    "        padding = \"max_length\",\n",
    "        return_token_type_ids = False,\n",
    "        truncation = True,\n",
    "        return_attention_mask = True,\n",
    "        return_tensors = 'pt'\n",
    "    )\n",
    "\n",
    "    input_ids = encoding_review['input_ids']\n",
    "    attention_mask = encoding_review['attention_mask']\n",
    "    output = model(input_ids,attention_mask)\n",
    "    logits = output.logits\n",
    "    _, prediction = torch.max(logits,dim=1)\n",
    "    print(logits)\n",
    "    print(prediction)\n",
    "    print(\"\\n\".join(wrap(review_text)))\n",
    "    if prediction:\n",
    "        print(\"Sentimiento predicho: * * * * *\")\n",
    "    else:\n",
    "        print(\"Sentimiento predicho: *\")"
   ]
  },
  {
   "cell_type": "code",
   "execution_count": 37,
   "metadata": {},
   "outputs": [
    {
     "name": "stdout",
     "output_type": "stream",
     "text": [
      "tensor([[[-6.9659e-01,  6.3480e-02],\n",
      "         [-5.4630e-01, -4.2633e-02],\n",
      "         [-5.4799e-01,  2.5685e-01],\n",
      "         [-5.4479e-01, -4.3641e-01],\n",
      "         [-3.0911e-01,  4.0672e-02],\n",
      "         [-3.3779e-01, -1.2691e-01],\n",
      "         [-9.7334e-03,  1.2395e-01],\n",
      "         [ 2.0125e-01, -3.0086e-01],\n",
      "         [-4.8740e-01, -1.7342e-02],\n",
      "         [-3.8903e-01, -1.7800e-01],\n",
      "         [-4.5631e-01, -7.7709e-02],\n",
      "         [-6.9675e-01, -3.4524e-01],\n",
      "         [-3.1655e-01, -3.1324e-01],\n",
      "         [-3.6708e-01, -2.2414e-01],\n",
      "         [-3.7481e-01,  1.4027e-01],\n",
      "         [ 1.7216e-01,  5.2020e-02],\n",
      "         [-7.0713e-01,  6.7032e-02],\n",
      "         [-2.0103e-02, -2.8053e-01],\n",
      "         [-3.9830e-02, -2.8072e-01],\n",
      "         [-4.3031e-02, -2.9586e-01],\n",
      "         [-8.2515e-03, -2.5540e-01],\n",
      "         [-3.2367e-02, -3.1629e-01],\n",
      "         [-1.2868e-03, -2.1082e-01],\n",
      "         [-8.2193e-02, -2.9361e-01],\n",
      "         [-8.6647e-02, -2.8169e-01],\n",
      "         [-7.9745e-02, -2.7910e-01],\n",
      "         [-7.5130e-02, -2.9147e-01],\n",
      "         [-3.5476e-02, -2.9947e-01],\n",
      "         [-1.4298e-02, -3.1467e-01],\n",
      "         [ 1.9018e-02, -3.1537e-01],\n",
      "         [-5.8720e-02, -3.4004e-01],\n",
      "         [-6.2640e-02, -3.0220e-01],\n",
      "         [-8.3404e-02, -3.1753e-01],\n",
      "         [-5.6538e-02, -2.9079e-01],\n",
      "         [-3.8694e-02, -3.3384e-01],\n",
      "         [-2.8937e-02, -3.4940e-01],\n",
      "         [ 8.0952e-02, -4.3331e-01],\n",
      "         [-8.6270e-02, -3.2983e-01],\n",
      "         [-7.2342e-02, -3.1655e-01],\n",
      "         [-1.0464e-01, -3.1022e-01],\n",
      "         [-4.5951e-02, -2.6777e-01],\n",
      "         [-5.3759e-02, -2.9210e-01],\n",
      "         [-4.8710e-02, -2.9173e-01],\n",
      "         [ 4.5007e-02, -3.3590e-01],\n",
      "         [-7.2510e-02, -2.9619e-01],\n",
      "         [-1.7445e-02, -4.2244e-01],\n",
      "         [-1.5546e-02, -3.5689e-01],\n",
      "         [-4.2685e-02, -3.2766e-01],\n",
      "         [ 2.3492e-02, -2.7672e-01],\n",
      "         [-1.6921e-03, -3.2389e-01],\n",
      "         [ 4.7424e-03, -2.0767e-01],\n",
      "         [-6.6450e-03, -2.0001e-01],\n",
      "         [-3.9859e-02, -2.5273e-01],\n",
      "         [-2.9683e-02, -2.4146e-01],\n",
      "         [-1.3836e-02, -2.2882e-01],\n",
      "         [ 1.9846e-02, -2.3419e-01],\n",
      "         [ 2.6616e-02, -2.2629e-01],\n",
      "         [ 7.5708e-03, -1.8502e-01],\n",
      "         [-1.0407e-02, -2.4107e-01],\n",
      "         [-4.2666e-02, -2.3508e-01],\n",
      "         [-3.9970e-02, -2.3960e-01],\n",
      "         [-1.9550e-02, -2.3584e-01],\n",
      "         [ 1.8190e-02, -2.4616e-01],\n",
      "         [ 3.9607e-02, -2.5519e-01],\n",
      "         [ 3.0660e-02, -2.5219e-01],\n",
      "         [ 3.3858e-03, -2.7145e-01],\n",
      "         [-2.4081e-02, -2.6095e-01],\n",
      "         [-2.8492e-02, -2.5837e-01],\n",
      "         [-1.7058e-02, -2.4542e-01],\n",
      "         [ 1.0278e-02, -2.4710e-01],\n",
      "         [ 3.5842e-03, -2.7877e-01],\n",
      "         [ 4.6393e-02, -2.1743e-01],\n",
      "         [-6.0420e-02, -2.4778e-01],\n",
      "         [-5.7238e-02, -2.0672e-01],\n",
      "         [-8.0090e-02, -2.3243e-01],\n",
      "         [-4.1117e-02, -2.0008e-01],\n",
      "         [-3.0768e-02, -2.4253e-01],\n",
      "         [-1.4024e-02, -2.3155e-01],\n",
      "         [ 3.9837e-03, -2.2874e-01],\n",
      "         [-6.6131e-02, -2.4318e-01],\n",
      "         [-6.1286e-02, -2.3182e-01],\n",
      "         [-5.0492e-02, -2.3716e-01],\n",
      "         [-4.3738e-02, -2.5851e-01],\n",
      "         [ 1.4907e-02, -2.3937e-01],\n",
      "         [-2.6439e-03, -2.9113e-01],\n",
      "         [ 1.1277e-03, -1.9714e-01],\n",
      "         [-2.0052e-02, -2.0165e-01],\n",
      "         [-3.7226e-02, -2.3703e-01],\n",
      "         [-2.9562e-02, -2.2693e-01],\n",
      "         [ 1.0111e-02, -2.2117e-01],\n",
      "         [ 2.7413e-02, -1.9856e-01],\n",
      "         [ 4.1760e-03, -1.7230e-01],\n",
      "         [-2.0690e-02, -2.1652e-01],\n",
      "         [-5.5497e-02, -2.1235e-01],\n",
      "         [-5.7117e-02, -2.1172e-01],\n",
      "         [-3.9733e-02, -2.0876e-01],\n",
      "         [-3.4712e-03, -2.1431e-01],\n",
      "         [ 8.5584e-03, -2.1585e-01],\n",
      "         [-8.0138e-03, -2.1330e-01],\n",
      "         [-4.1631e-02, -2.3221e-01],\n",
      "         [-6.7529e-02, -2.2989e-01],\n",
      "         [-5.5892e-02, -2.3532e-01],\n",
      "         [-1.1881e-02, -2.4079e-01],\n",
      "         [ 1.1846e-02, -2.4551e-01],\n",
      "         [ 2.4010e-03, -2.2677e-01],\n",
      "         [-6.5245e-02, -2.6080e-01],\n",
      "         [-7.0170e-02, -2.3345e-01],\n",
      "         [-7.3922e-02, -2.2866e-01],\n",
      "         [-4.5802e-02, -2.3040e-01],\n",
      "         [-5.7904e-02, -2.6308e-01],\n",
      "         [ 1.3711e-02, -1.9822e-01],\n",
      "         [-1.1869e-01, -2.2848e-01],\n",
      "         [-1.1429e-01, -1.8415e-01],\n",
      "         [-1.4844e-01, -2.1944e-01],\n",
      "         [-9.5602e-02, -1.7602e-01],\n",
      "         [-9.4617e-02, -2.4061e-01],\n",
      "         [-8.2669e-02, -2.3290e-01],\n",
      "         [-5.7014e-03, -2.4847e-01],\n",
      "         [-1.2387e-01, -2.5661e-01],\n",
      "         [-5.4296e-02, -3.1834e-01],\n",
      "         [-6.3401e-02, -2.7373e-01],\n",
      "         [-4.0650e-02, -2.5450e-01],\n",
      "         [-6.7593e-02, -3.0709e-01],\n",
      "         [-2.9626e-02, -2.0309e-01],\n",
      "         [-4.7253e-02, -1.9952e-01],\n",
      "         [-9.7563e-02, -2.3470e-01],\n",
      "         [-1.0083e-01, -2.3574e-01],\n",
      "         [-5.8890e-02, -2.2251e-01],\n",
      "         [-5.9503e-02, -2.3717e-01],\n",
      "         [-6.0186e-02, -1.8003e-01],\n",
      "         [-9.4035e-02, -2.1245e-01],\n",
      "         [-1.3962e-01, -2.2533e-01],\n",
      "         [-1.4403e-01, -2.2528e-01],\n",
      "         [-1.2783e-01, -2.2836e-01],\n",
      "         [-8.3224e-02, -2.3206e-01],\n",
      "         [-7.4378e-02, -2.4677e-01],\n",
      "         [-5.7395e-02, -2.3844e-01],\n",
      "         [-1.4985e-01, -2.8682e-01],\n",
      "         [-1.3986e-01, -2.6944e-01],\n",
      "         [-1.2362e-01, -2.7787e-01],\n",
      "         [-6.5912e-02, -2.8782e-01],\n",
      "         [-2.6663e-02, -3.1776e-01],\n",
      "         [ 1.2511e-02, -2.7633e-01],\n",
      "         [-8.6929e-02, -3.5466e-01],\n",
      "         [-9.4727e-02, -3.1899e-01],\n",
      "         [-1.0633e-01, -3.2104e-01],\n",
      "         [-8.2814e-02, -3.1148e-01],\n",
      "         [-5.1223e-02, -3.5506e-01],\n",
      "         [-5.0829e-02, -4.1131e-01],\n",
      "         [ 9.5945e-02, -5.0698e-01],\n",
      "         [-1.2639e-01, -3.8611e-01],\n",
      "         [-8.3087e-02, -4.3305e-01],\n",
      "         [-1.4106e-01, -3.5696e-01],\n",
      "         [-3.9674e-02, -3.5316e-01],\n",
      "         [-8.7977e-02, -3.2575e-01],\n",
      "         [-9.2451e-02, -3.2280e-01],\n",
      "         [ 2.9460e-02, -3.9718e-01],\n",
      "         [-1.2972e-01, -3.1664e-01],\n",
      "         [-6.6546e-02, -4.6198e-01],\n",
      "         [-4.6814e-02, -3.8819e-01],\n",
      "         [-9.3525e-02, -3.4225e-01],\n",
      "         [-1.6166e-02, -2.7929e-01],\n",
      "         [-6.7148e-02, -3.2025e-01],\n",
      "         [-4.4125e-02, -2.1315e-01],\n",
      "         [-5.6602e-02, -2.0613e-01],\n",
      "         [-1.0108e-01, -2.4774e-01],\n",
      "         [-9.0263e-02, -2.3751e-01],\n",
      "         [-6.8749e-02, -2.2718e-01],\n",
      "         [-3.2469e-02, -2.2470e-01],\n",
      "         [-2.8101e-02, -2.1034e-01],\n",
      "         [-5.4053e-02, -1.7789e-01],\n",
      "         [-6.9916e-02, -2.2247e-01],\n",
      "         [-9.8164e-02, -2.1541e-01],\n",
      "         [-9.4925e-02, -2.1512e-01],\n",
      "         [-7.4332e-02, -2.1213e-01],\n",
      "         [-3.2793e-02, -2.2134e-01],\n",
      "         [-2.2938e-02, -2.2488e-01],\n",
      "         [-4.0247e-02, -2.0487e-01],\n",
      "         [-7.2667e-02, -2.3263e-01],\n",
      "         [-1.0038e-01, -2.2863e-01],\n",
      "         [-9.4581e-02, -2.3084e-01],\n",
      "         [-6.8110e-02, -2.2294e-01],\n",
      "         [-3.3522e-02, -2.3701e-01],\n",
      "         [-1.5551e-02, -2.4507e-01],\n",
      "         [-2.6847e-02, -2.5520e-01],\n",
      "         [-6.1271e-02, -2.6568e-01],\n",
      "         [-8.3027e-02, -2.5970e-01],\n",
      "         [-7.2865e-02, -2.6144e-01],\n",
      "         [-4.5433e-02, -2.5299e-01],\n",
      "         [-6.9838e-03, -2.6204e-01],\n",
      "         [ 5.9039e-03, -2.5650e-01],\n",
      "         [-1.8251e-02, -2.5652e-01],\n",
      "         [-5.3162e-02, -2.5885e-01],\n",
      "         [-8.1397e-02, -2.4427e-01],\n",
      "         [-7.5488e-02, -2.3426e-01],\n",
      "         [-3.7087e-02, -2.2990e-01],\n",
      "         [-4.2754e-02, -2.5932e-01],\n",
      "         [ 6.1383e-03, -2.0337e-01],\n",
      "         [-1.1474e-01, -2.3275e-01],\n",
      "         [-8.8829e-02, -1.9355e-01],\n",
      "         [-1.1352e-01, -2.1375e-01],\n",
      "         [-6.9805e-02, -1.8771e-01],\n",
      "         [-6.1103e-02, -2.2909e-01],\n",
      "         [-4.3149e-02, -2.2292e-01],\n",
      "         [-2.7049e-02, -2.1839e-01],\n",
      "         [-8.7436e-02, -2.2909e-01],\n",
      "         [-1.0575e-01, -2.1472e-01],\n",
      "         [-9.7728e-02, -2.1707e-01],\n",
      "         [-7.2757e-02, -2.1558e-01],\n",
      "         [-2.9832e-02, -2.2524e-01],\n",
      "         [-3.0398e-02, -2.4577e-01],\n",
      "         [-3.7039e-02, -2.0297e-01],\n",
      "         [-7.2699e-02, -2.4683e-01],\n",
      "         [-9.3038e-02, -2.4284e-01],\n",
      "         [-7.9244e-02, -2.4344e-01],\n",
      "         [-3.2858e-02, -2.3254e-01],\n",
      "         [-5.4534e-02, -2.9195e-01],\n",
      "         [-3.5382e-02, -1.9828e-01],\n",
      "         [-5.8308e-02, -1.9732e-01],\n",
      "         [-7.3157e-02, -2.2423e-01],\n",
      "         [-6.4699e-02, -2.1377e-01],\n",
      "         [-2.8292e-02, -2.0680e-01],\n",
      "         [-1.9672e-02, -1.9270e-01],\n",
      "         [-4.1084e-02, -1.7755e-01],\n",
      "         [-6.1842e-02, -2.0733e-01],\n",
      "         [-8.9698e-02, -2.0239e-01],\n",
      "         [-8.8033e-02, -2.0071e-01],\n",
      "         [-4.4305e-02, -2.0238e-01],\n",
      "         [-4.2875e-02, -2.3120e-01],\n",
      "         [-3.3263e-02, -1.9132e-01],\n",
      "         [-7.6864e-02, -2.3495e-01],\n",
      "         [-9.5653e-02, -2.2826e-01],\n",
      "         [-8.8431e-02, -2.3029e-01],\n",
      "         [-6.5629e-02, -2.2636e-01],\n",
      "         [-3.4822e-02, -2.5158e-01],\n",
      "         [-1.3515e-02, -2.5691e-01],\n",
      "         [ 4.7737e-04, -2.4375e-01],\n",
      "         [-9.5669e-02, -3.0405e-01],\n",
      "         [-6.1754e-02, -2.6741e-01],\n",
      "         [-8.9906e-02, -2.8083e-01],\n",
      "         [-4.3321e-02, -3.4722e-01],\n",
      "         [-3.2842e-03, -4.0653e-01],\n",
      "         [ 1.4374e-01, -4.8858e-01],\n",
      "         [-5.1418e-02, -4.3135e-01],\n",
      "         [ 3.1400e-03, -4.9547e-01],\n",
      "         [-6.9231e-02, -4.0180e-01],\n",
      "         [ 1.1679e-01, -4.4674e-01],\n",
      "         [-8.9335e-03, -3.9899e-01],\n",
      "         [ 1.2850e-01, -4.6882e-01],\n",
      "         [-4.8986e-02, -4.0883e-01]]], grad_fn=<ViewBackward0>)\n",
      "tensor([[7, 2]])\n",
      "amante carne tiene una carta bastante amplia para\n"
     ]
    },
    {
     "ename": "RuntimeError",
     "evalue": "Boolean value of Tensor with more than one value is ambiguous",
     "output_type": "error",
     "traceback": [
      "\u001b[1;31m---------------------------------------------------------------------------\u001b[0m",
      "\u001b[1;31mRuntimeError\u001b[0m                              Traceback (most recent call last)",
      "Cell \u001b[1;32mIn[37], line 1\u001b[0m\n\u001b[1;32m----> 1\u001b[0m \u001b[43mclassifySentiment\u001b[49m\u001b[43m(\u001b[49m\u001b[38;5;124;43m\"\u001b[39;49m\u001b[38;5;124;43mamante carne tiene una carta bastante amplia para\u001b[39;49m\u001b[38;5;124;43m\"\u001b[39;49m\u001b[43m)\u001b[49m\n",
      "Cell \u001b[1;32mIn[35], line 21\u001b[0m, in \u001b[0;36mclassifySentiment\u001b[1;34m(review_text)\u001b[0m\n\u001b[0;32m     19\u001b[0m \u001b[38;5;28mprint\u001b[39m(prediction)\n\u001b[0;32m     20\u001b[0m \u001b[38;5;28mprint\u001b[39m(\u001b[38;5;124m\"\u001b[39m\u001b[38;5;130;01m\\n\u001b[39;00m\u001b[38;5;124m\"\u001b[39m\u001b[38;5;241m.\u001b[39mjoin(wrap(review_text)))\n\u001b[1;32m---> 21\u001b[0m \u001b[38;5;28;01mif\u001b[39;00m prediction:\n\u001b[0;32m     22\u001b[0m     \u001b[38;5;28mprint\u001b[39m(\u001b[38;5;124m\"\u001b[39m\u001b[38;5;124mSentimiento predicho: * * * * *\u001b[39m\u001b[38;5;124m\"\u001b[39m)\n\u001b[0;32m     23\u001b[0m \u001b[38;5;28;01melse\u001b[39;00m:\n",
      "\u001b[1;31mRuntimeError\u001b[0m: Boolean value of Tensor with more than one value is ambiguous"
     ]
    }
   ],
   "source": [
    "classifySentiment(\"amante carne tiene una carta bastante amplia para\")"
   ]
  },
  {
   "cell_type": "markdown",
   "metadata": {},
   "source": [
    "### Guardar Model"
   ]
  },
  {
   "cell_type": "code",
   "execution_count": 16,
   "metadata": {},
   "outputs": [],
   "source": [
    "with open(\"../Model_Train/Bert_Model_Hotel_COAH\", \"wb\") as file:\n",
    "    pickle.dump(model, file)"
   ]
  },
  {
   "cell_type": "markdown",
   "metadata": {},
   "source": [
    "### Guardar Tokenizer"
   ]
  },
  {
   "cell_type": "code",
   "execution_count": 136,
   "metadata": {},
   "outputs": [
    {
     "data": {
      "text/plain": [
       "('../Logic/Fine_turned/tokenizer_config.json',\n",
       " '../Logic/Fine_turned/special_tokens_map.json',\n",
       " '../Logic/Fine_turned/vocab.txt',\n",
       " '../Logic/Fine_turned/added_tokens.json',\n",
       " '../Logic/Fine_turned/tokenizer.json')"
      ]
     },
     "execution_count": 136,
     "metadata": {},
     "output_type": "execute_result"
    }
   ],
   "source": [
    "tokenizer.save_pretrained('../Logic/Fine_turned/')"
   ]
  },
  {
   "cell_type": "code",
   "execution_count": null,
   "metadata": {},
   "outputs": [],
   "source": [
    "import torch\n",
    "from transformers import BertTokenizer, BertForSequenceClassification, AdamW, get_linear_schedule_with_warmup\n",
    "from datasets import Dataset\n",
    "from sklearn.model_selection import train_test_split\n",
    "from torch.utils.data import DataLoader\n",
    "\n",
    "# 1. Definir el tokenizador y el modelo\n",
    "tokenizer = BertTokenizer.from_pretrained('../Model/bert-base-spanish-uncased/') \n",
    "model = BertForSequenceClassification.from_pretrained('../Model/bert-base-spanish-uncased/') # 2 clases: positivo/negativo\n",
    "\n",
    "# 5. Definir la función de entrenamiento\n",
    "def train_model(model, train_data_loader, optimizer, scheduler, device):\n",
    "    model.train()\n",
    "    total_loss = 0\n",
    "    for batch in train_data_loader:\n",
    "        input_ids = batch['input_ids'].to(device)\n",
    "        attention_mask = batch['attention_mask'].to(device)\n",
    "        labels = batch['labels'].to(device)\n",
    "        optimizer.zero_grad()\n",
    "        outputs = model(input_ids=input_ids, attention_mask=attention_mask, labels=labels)\n",
    "        loss = outputs.loss\n",
    "        total_loss += loss.item()\n",
    "        loss.backward()\n",
    "        optimizer.step()\n",
    "        scheduler.step()\n",
    "    return total_loss / len(train_data_loader)\n",
    "\n",
    "# 6. Definir la función de evaluación\n",
    "def eval_model(model, test_data_loader, device):\n",
    "    model.eval()\n",
    "    total_loss = 0\n",
    "    correct_predictions = 0\n",
    "    with torch.no_grad():\n",
    "        for batch in test_data_loader:\n",
    "            input_ids = batch['input_ids'].to(device)\n",
    "            attention_mask = batch['attention_mask'].to(device)\n",
    "            labels = batch['labels'].to(device)\n",
    "\n",
    "            outputs = model(input_ids=input_ids, attention_mask=attention_mask, labels=labels)\n",
    "            loss = outputs.loss\n",
    "            total_loss += loss.item()\n",
    "\n",
    "            _, preds = torch.max(outputs.logits, dim=1)\n",
    "            correct_predictions += torch.sum(preds == labels).item()\n",
    "    return total_loss / len(test_data_loader), correct_predictions / len(test_data_loader)\n",
    "\n",
    "# 7. Ajustar el modelo\n",
    "device = torch.device(\"cuda\" if torch.cuda.is_available() else \"cpu\")\n",
    "model.to(device)\n",
    "\n",
    "optimizer = AdamW(model.parameters(), lr=2e-5)  # Ajuste fino del modelo BERT\n",
    "total_steps = len(train_data_loader) * 3 # 3 epocas\n",
    "scheduler = get_linear_schedule_with_warmup(optimizer, num_warmup_steps=0, num_training_steps=total_steps)\n",
    "\n",
    "EPOCHES = 3\n",
    "\n",
    "for epoch in range(EPOCHES):\n",
    "    print('Epoch {} de {}'.format(epoch+1, EPOCHES))\n",
    "    print('---------------------------')\n",
    "    train_loss = train_model(model, train_data_loader, optimizer, scheduler, device)\n",
    "    print('Entrenamiento: Loss: {}'.format(train_loss))\n",
    "    test_loss, test_acc = eval_model(model, test_data_loader, device)\n",
    "    print('Evaluación: Loss: {}, Accuracy: {}'.format(test_loss, test_acc))\n",
    "\n",
    "# 8. Guardar el modelo\n",
    "model_save_path = 'fine_tuned_bert_spanish'\n",
    "tokenizer.save_pretrained(model_save_path)\n",
    "model.save_pretrained(model_save_path)\n"
   ]
  }
 ],
 "metadata": {
  "kernelspec": {
   "display_name": "Python 3",
   "language": "python",
   "name": "python3"
  },
  "language_info": {
   "codemirror_mode": {
    "name": "ipython",
    "version": 3
   },
   "file_extension": ".py",
   "mimetype": "text/x-python",
   "name": "python",
   "nbconvert_exporter": "python",
   "pygments_lexer": "ipython3",
   "version": "3.11.3"
  },
  "orig_nbformat": 4
 },
 "nbformat": 4,
 "nbformat_minor": 2
}
