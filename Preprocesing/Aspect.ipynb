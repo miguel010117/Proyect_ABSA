{
 "cells": [
  {
   "cell_type": "code",
   "execution_count": 1,
   "metadata": {},
   "outputs": [],
   "source": [
    "import xml.etree.ElementTree as ET\n",
    "import re\n",
    "import csv\n",
    "\n",
    "def tokenize(text):\n",
    "    # Tokeniza el texto en menciones, hashtags, palabras y otros caracteres\n",
    "    tokens = re.findall(r'(@\\w+|#\\w+|\\w+|[^\\w\\s])', text, re.UNICODE)\n",
    "    # Filtra tokens vacíos que puedan aparecer por espacios en blanco\n",
    "    return [t for t in tokens if t.strip()]\n",
    "\n",
    "def process_tweet(tweet_element):\n",
    "    parts = []\n",
    "    # Procesa el texto inicial del tweet\n",
    "    current_text = tweet_element.text.strip() if tweet_element.text else ''\n",
    "    if current_text:\n",
    "        parts.append((current_text, None))\n",
    "    # Procesa cada elemento hijo (etiquetas sentiment)\n",
    "    for child in tweet_element:\n",
    "        aspect = child.get('aspect')\n",
    "        # Procesa el texto dentro de la etiqueta sentiment\n",
    "        child_text = child.text.strip() if child.text else ''\n",
    "        if child_text:\n",
    "            parts.append((child_text, aspect))\n",
    "        # Procesa el texto después de la etiqueta sentiment (tail)\n",
    "        tail_text = child.tail.strip() if child.tail else ''\n",
    "        if tail_text:\n",
    "            parts.append((tail_text, None))\n",
    "    # Genera tokens y etiquetas BIO para cada parte\n",
    "    tokens = []\n",
    "    labels = []\n",
    "    for part_text, aspect in parts:\n",
    "        part_tokens = tokenize(part_text)\n",
    "        if not part_tokens:\n",
    "            continue\n",
    "        if aspect is None:\n",
    "            part_labels = ['O'] * len(part_tokens)\n",
    "        else:\n",
    "            part_labels = ['B-' + aspect] + ['I-' + aspect] * (len(part_tokens) - 1)\n",
    "        tokens.extend(part_tokens)\n",
    "        labels.extend(part_labels)\n",
    "    return tokens, labels\n",
    "\n",
    "# Parsear el archivo XML\n",
    "tree = ET.parse('../Data/stompol-test-tagged.xml')\n",
    "root = tree.getroot()\n",
    "\n",
    "tweets = root.findall('tweet')\n",
    "\n",
    "# Escribir el archivo CSV\n",
    "with open('tokens_labels.csv', 'w', newline='', encoding='utf-8') as csvfile:\n",
    "    writer = csv.writer(csvfile, delimiter=';')\n",
    "    writer.writerow(['tokens', 'labels'])\n",
    "    for tweet in tweets:\n",
    "        tokens, labels = process_tweet(tweet)\n",
    "        writer.writerow([str(tokens), str(labels)])"
   ]
  },
  {
   "cell_type": "code",
   "execution_count": 2,
   "metadata": {},
   "outputs": [
    {
     "name": "stdout",
     "output_type": "stream",
     "text": [
      "Archivo transformado guardado en: ../Preprocesing/tokens_labels.csv\n"
     ]
    }
   ],
   "source": [
    "import pandas as pd\n",
    "import ast\n",
    "\n",
    "def transform_labels_o_to_zero(csv_path):\n",
    "    # Leer el CSV con separador ;\n",
    "    df = pd.read_csv(csv_path, sep=';')\n",
    "    \n",
    "    # Función para convertir los 'O' en 0\n",
    "    def convert_o_to_zero(label_list):\n",
    "        # Convertir la cadena de texto a lista\n",
    "        try:\n",
    "            labels = ast.literal_eval(label_list)\n",
    "        except:\n",
    "            labels = label_list\n",
    "            \n",
    "        # Reemplazar 'O' por 0 manteniendo otros valores\n",
    "        return [0 if label == 'O' else label for label in labels]\n",
    "    \n",
    "    # Aplicar la conversión a toda la columna labels\n",
    "    df['labels'] = df['labels'].apply(convert_o_to_zero)\n",
    "    \n",
    "    # Guardar el nuevo CSV\n",
    "    df.to_csv(csv_path, sep=';', index=False)\n",
    "    print(f\"Archivo transformado guardado en: {csv_path}\")\n",
    "\n",
    "# Ejemplo de uso\n",
    "transform_labels_o_to_zero(\"../Preprocesing/tokens_labels.csv\")"
   ]
  },
  {
   "cell_type": "code",
   "execution_count": 13,
   "metadata": {},
   "outputs": [
    {
     "name": "stdout",
     "output_type": "stream",
     "text": [
      "Archivo transformado guardado en: tokens_labels.csv\n"
     ]
    }
   ],
   "source": [
    "import pandas as pd\n",
    "import ast\n",
    "\n",
    "def transform_labels_o_to_zero(csv_path):\n",
    "    # Leer el CSV con separador ;\n",
    "    df = pd.read_csv(csv_path, sep=';')\n",
    "    \n",
    "    # Función para convertir los 'O' en 0\n",
    "    def convert_o_to_zero(label_list):\n",
    "        # Convertir la cadena de texto a lista\n",
    "        try:\n",
    "            labels = ast.literal_eval(label_list)\n",
    "        except:\n",
    "            labels = label_list\n",
    "            \n",
    "        # Reemplazar 'O' por 0 manteniendo otros valores\n",
    "        return [5 if label == 'I-Otros_aspectos' else label for label in labels]\n",
    "    \n",
    "    # Aplicar la conversión a toda la columna labels\n",
    "    df['labels'] = df['labels'].apply(convert_o_to_zero)\n",
    "    \n",
    "    # Guardar el nuevo CSV\n",
    "    df.to_csv(csv_path, sep=';', index=False)\n",
    "    print(f\"Archivo transformado guardado en: {csv_path}\")\n",
    "\n",
    "# Ejemplo de uso\n",
    "transform_labels_o_to_zero('tokens_labels.csv')"
   ]
  }
 ],
 "metadata": {
  "kernelspec": {
   "display_name": "Python 3",
   "language": "python",
   "name": "python3"
  },
  "language_info": {
   "codemirror_mode": {
    "name": "ipython",
    "version": 3
   },
   "file_extension": ".py",
   "mimetype": "text/x-python",
   "name": "python",
   "nbconvert_exporter": "python",
   "pygments_lexer": "ipython3",
   "version": "3.11.3"
  }
 },
 "nbformat": 4,
 "nbformat_minor": 2
}
