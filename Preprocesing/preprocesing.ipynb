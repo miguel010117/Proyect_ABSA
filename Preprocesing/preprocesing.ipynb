{
 "cells": [
  {
   "cell_type": "code",
   "execution_count": 6,
   "metadata": {},
   "outputs": [],
   "source": [
    "import xml.etree.ElementTree as ET\n",
    "\n",
    "def parse_tweet(tweet):\n",
    "    text = \"\"\n",
    "    labels = []\n",
    "    \n",
    "    # Recorre todos los elementos y texto dentro del tweet\n",
    "    for element in tweet.iter():\n",
    "        if element.tag == \"sentiment\":\n",
    "            # Extrae el aspecto y la polaridad\n",
    "            aspect = element.attrib[\"aspect\"]\n",
    "            polarity = element.attrib[\"polarity\"]\n",
    "            \n",
    "            # Divide el texto en palabras y asigna las etiquetas BIO\n",
    "            words = element.text.split()\n",
    "            labels.extend([f\"B-{aspect}\"] + [f\"I-{aspect}\"] * (len(words) - 1))\n",
    "            text += element.text + \" \"\n",
    "        else:\n",
    "            # Captura el texto que está fuera de los elementos <sentiment>\n",
    "            if element.text:\n",
    "                words = element.text.split()\n",
    "                labels.extend([\"O\"] * len(words))\n",
    "                text += element.text + \" \"\n",
    "        \n",
    "        # Captura el texto de cola (tail) que está después de un elemento <sentiment>\n",
    "        if element.tail and element.tail.strip():\n",
    "            words = element.tail.split()\n",
    "            labels.extend([\"O\"] * len(words))\n",
    "            text += element.tail.strip() + \" \"\n",
    "\n",
    "    return text.strip(), labels"
   ]
  },
  {
   "cell_type": "code",
   "execution_count": 7,
   "metadata": {},
   "outputs": [
    {
     "name": "stdout",
     "output_type": "stream",
     "text": [
      "{'text': 'Los que esta noche van a la redonda a celebrar la victoria del Real Madrid les espero para cuando suba el @realmurciacfsad a primera.', 'labels': ['B-Afición', 'I-Afición', 'I-Afición', 'I-Afición', 'I-Afición', 'I-Afición', 'I-Afición', 'I-Afición', 'I-Afición', 'I-Afición', 'I-Afición', 'I-Afición', 'O', 'B-Equipo-Real_Madrid', 'I-Equipo-Real_Madrid', 'O', 'O', 'O', 'O', 'O', 'O', 'B-Equipo', 'O', 'O']}\n"
     ]
    }
   ],
   "source": [
    "tweet_xml = '''<tweet id=\"456544889786728451\">\n",
    "<sentiment aspect=\"Afición\" polarity=\"P\">Los que esta noche van a la redonda a celebrar la victoria</sentiment>\n",
    "del\n",
    "<sentiment aspect=\"Equipo-Real_Madrid\" polarity=\"P\">Real Madrid</sentiment>\n",
    "les espero para cuando suba el\n",
    "<sentiment aspect=\"Equipo\" polarity=\"P\">@realmurciacfsad</sentiment>\n",
    "a primera.\n",
    "</tweet>'''\n",
    "\n",
    "root = ET.fromstring(tweet_xml)\n",
    "text, labels = parse_tweet(root)\n",
    "print({\"text\": text, \"labels\": labels})"
   ]
  },
  {
   "cell_type": "code",
   "execution_count": 11,
   "metadata": {},
   "outputs": [
    {
     "name": "stdout",
     "output_type": "stream",
     "text": [
      "Procesamiento completado. Los resultados se han guardado en tweets_preprocessed.csv.\n"
     ]
    }
   ],
   "source": [
    "import csv\n",
    "def process_xml_to_csv(xml_file, csv_file):\n",
    "    # Parsear el archivo XML\n",
    "    tree = ET.parse(xml_file)\n",
    "    root = tree.getroot()\n",
    "    \n",
    "    # Abrir el archivo CSV para escribir\n",
    "    with open(csv_file, mode=\"w\", newline=\"\", encoding=\"utf-8\") as file:\n",
    "        writer = csv.writer(file, delimiter=\";\")\n",
    "        # Escribir la cabecera del CSV\n",
    "        writer.writerow([\"text\", \"labels\"])\n",
    "        \n",
    "        # Recorrer cada tweet en el XML\n",
    "        for tweet in root.findall(\"tweet\"):\n",
    "            text, labels = parse_tweet(tweet)\n",
    "            # Escribir una fila en el CSV\n",
    "            writer.writerow([text, \" \".join(labels)])  # Convertir la lista de etiquetas a una cadena\n",
    "\n",
    "# Ejemplo de uso\n",
    "xml_file = \"../Data/socialtv-train-tagged.xml\"  # Ruta al archivo XML de entrada\n",
    "csv_file = \"tweets_preprocessed.csv\"  # Ruta al archivo CSV de salida\n",
    "process_xml_to_csv(xml_file, csv_file)\n",
    "\n",
    "print(f\"Procesamiento completado. Los resultados se han guardado en {csv_file}.\")\n"
   ]
  }
 ],
 "metadata": {
  "kernelspec": {
   "display_name": "Python 3",
   "language": "python",
   "name": "python3"
  },
  "language_info": {
   "codemirror_mode": {
    "name": "ipython",
    "version": 3
   },
   "file_extension": ".py",
   "mimetype": "text/x-python",
   "name": "python",
   "nbconvert_exporter": "python",
   "pygments_lexer": "ipython3",
   "version": "3.11.3"
  }
 },
 "nbformat": 4,
 "nbformat_minor": 2
}
